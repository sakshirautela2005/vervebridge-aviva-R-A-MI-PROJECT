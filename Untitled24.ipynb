{
 "cells": [
  {
   "cell_type": "markdown",
   "id": "59a25e46-deb4-473e-b1b8-0d95d4821640",
   "metadata": {},
   "source": [
    "# importing python libraries"
   ]
  },
  {
   "cell_type": "code",
   "execution_count": 5,
   "id": "72c2f8b5-2d01-43f1-88c3-4836443ec390",
   "metadata": {},
   "outputs": [],
   "source": [
    "import pandas as pd\n",
    "import matplotlib.pyplot as plt\n",
    "import seaborn as sns"
   ]
  },
  {
   "cell_type": "code",
   "execution_count": 6,
   "id": "635a420c-c9fb-45c2-b76e-8bc58bb594b3",
   "metadata": {},
   "outputs": [],
   "source": [
    "df = pd.read_excel(\"EDA 2.xlsx\", sheet_name='Sheet1')\n"
   ]
  },
  {
   "cell_type": "code",
   "execution_count": 7,
   "id": "a004744f-6cad-4c06-b446-49b228f2f806",
   "metadata": {},
   "outputs": [
    {
     "data": {
      "text/html": [
       "<div>\n",
       "<style scoped>\n",
       "    .dataframe tbody tr th:only-of-type {\n",
       "        vertical-align: middle;\n",
       "    }\n",
       "\n",
       "    .dataframe tbody tr th {\n",
       "        vertical-align: top;\n",
       "    }\n",
       "\n",
       "    .dataframe thead th {\n",
       "        text-align: right;\n",
       "    }\n",
       "</style>\n",
       "<table border=\"1\" class=\"dataframe\">\n",
       "  <thead>\n",
       "    <tr style=\"text-align: right;\">\n",
       "      <th></th>\n",
       "      <th>Sales Person</th>\n",
       "      <th>Gender</th>\n",
       "      <th>Quotes</th>\n",
       "      <th>Sales (in Volume)</th>\n",
       "      <th>Sales (in Value)</th>\n",
       "      <th>Sold Month and Year</th>\n",
       "      <th>Month</th>\n",
       "      <th>Year</th>\n",
       "    </tr>\n",
       "  </thead>\n",
       "  <tbody>\n",
       "    <tr>\n",
       "      <th>0</th>\n",
       "      <td>Cara</td>\n",
       "      <td>F</td>\n",
       "      <td>70</td>\n",
       "      <td>10</td>\n",
       "      <td>800</td>\n",
       "      <td>12013</td>\n",
       "      <td>1</td>\n",
       "      <td>2013</td>\n",
       "    </tr>\n",
       "    <tr>\n",
       "      <th>1</th>\n",
       "      <td>Jessy</td>\n",
       "      <td>F</td>\n",
       "      <td>30</td>\n",
       "      <td>7</td>\n",
       "      <td>400</td>\n",
       "      <td>12013</td>\n",
       "      <td>1</td>\n",
       "      <td>2013</td>\n",
       "    </tr>\n",
       "    <tr>\n",
       "      <th>2</th>\n",
       "      <td>Lewis</td>\n",
       "      <td>M</td>\n",
       "      <td>40</td>\n",
       "      <td>5</td>\n",
       "      <td>400</td>\n",
       "      <td>32013</td>\n",
       "      <td>3</td>\n",
       "      <td>2013</td>\n",
       "    </tr>\n",
       "    <tr>\n",
       "      <th>3</th>\n",
       "      <td>Tommy</td>\n",
       "      <td>M</td>\n",
       "      <td>24</td>\n",
       "      <td>3</td>\n",
       "      <td>1200</td>\n",
       "      <td>42013</td>\n",
       "      <td>4</td>\n",
       "      <td>2013</td>\n",
       "    </tr>\n",
       "    <tr>\n",
       "      <th>4</th>\n",
       "      <td>Annie</td>\n",
       "      <td>F</td>\n",
       "      <td>20</td>\n",
       "      <td>2</td>\n",
       "      <td>2000</td>\n",
       "      <td>12013</td>\n",
       "      <td>1</td>\n",
       "      <td>2013</td>\n",
       "    </tr>\n",
       "  </tbody>\n",
       "</table>\n",
       "</div>"
      ],
      "text/plain": [
       "  Sales Person Gender  Quotes  Sales (in Volume)  Sales (in Value)  \\\n",
       "0         Cara      F      70                 10               800   \n",
       "1        Jessy      F      30                  7               400   \n",
       "2        Lewis      M      40                  5               400   \n",
       "3        Tommy      M      24                  3              1200   \n",
       "4        Annie      F      20                  2              2000   \n",
       "\n",
       "   Sold Month and Year  Month  Year  \n",
       "0                12013      1  2013  \n",
       "1                12013      1  2013  \n",
       "2                32013      3  2013  \n",
       "3                42013      4  2013  \n",
       "4                12013      1  2013  "
      ]
     },
     "execution_count": 7,
     "metadata": {},
     "output_type": "execute_result"
    }
   ],
   "source": [
    "df.head()"
   ]
  },
  {
   "cell_type": "markdown",
   "id": "08977370-1dbd-47f5-a105-edaeede16c72",
   "metadata": {},
   "source": [
    "# Drop the missing value"
   ]
  },
  {
   "cell_type": "code",
   "execution_count": 10,
   "id": "d85249ea-1721-4b93-b931-b6c1e6cfa324",
   "metadata": {},
   "outputs": [],
   "source": [
    "df = df.dropna()"
   ]
  },
  {
   "cell_type": "code",
   "execution_count": 14,
   "id": "d8ce2584-f60e-432d-9322-a03a95891637",
   "metadata": {},
   "outputs": [
    {
     "data": {
      "text/html": [
       "<div>\n",
       "<style scoped>\n",
       "    .dataframe tbody tr th:only-of-type {\n",
       "        vertical-align: middle;\n",
       "    }\n",
       "\n",
       "    .dataframe tbody tr th {\n",
       "        vertical-align: top;\n",
       "    }\n",
       "\n",
       "    .dataframe thead th {\n",
       "        text-align: right;\n",
       "    }\n",
       "</style>\n",
       "<table border=\"1\" class=\"dataframe\">\n",
       "  <thead>\n",
       "    <tr style=\"text-align: right;\">\n",
       "      <th></th>\n",
       "      <th>Sales Person</th>\n",
       "      <th>Gender</th>\n",
       "      <th>Quotes</th>\n",
       "      <th>Sales (in Volume)</th>\n",
       "      <th>Sales (in Value)</th>\n",
       "      <th>Sold Month and Year</th>\n",
       "      <th>Month</th>\n",
       "      <th>Year</th>\n",
       "    </tr>\n",
       "  </thead>\n",
       "  <tbody>\n",
       "    <tr>\n",
       "      <th>0</th>\n",
       "      <td>Cara</td>\n",
       "      <td>F</td>\n",
       "      <td>70</td>\n",
       "      <td>10</td>\n",
       "      <td>800</td>\n",
       "      <td>12013</td>\n",
       "      <td>1</td>\n",
       "      <td>2013</td>\n",
       "    </tr>\n",
       "    <tr>\n",
       "      <th>1</th>\n",
       "      <td>Jessy</td>\n",
       "      <td>F</td>\n",
       "      <td>30</td>\n",
       "      <td>7</td>\n",
       "      <td>400</td>\n",
       "      <td>12013</td>\n",
       "      <td>1</td>\n",
       "      <td>2013</td>\n",
       "    </tr>\n",
       "    <tr>\n",
       "      <th>2</th>\n",
       "      <td>Lewis</td>\n",
       "      <td>M</td>\n",
       "      <td>40</td>\n",
       "      <td>5</td>\n",
       "      <td>400</td>\n",
       "      <td>32013</td>\n",
       "      <td>3</td>\n",
       "      <td>2013</td>\n",
       "    </tr>\n",
       "    <tr>\n",
       "      <th>3</th>\n",
       "      <td>Tommy</td>\n",
       "      <td>M</td>\n",
       "      <td>24</td>\n",
       "      <td>3</td>\n",
       "      <td>1200</td>\n",
       "      <td>42013</td>\n",
       "      <td>4</td>\n",
       "      <td>2013</td>\n",
       "    </tr>\n",
       "    <tr>\n",
       "      <th>4</th>\n",
       "      <td>Annie</td>\n",
       "      <td>F</td>\n",
       "      <td>20</td>\n",
       "      <td>2</td>\n",
       "      <td>2000</td>\n",
       "      <td>12013</td>\n",
       "      <td>1</td>\n",
       "      <td>2013</td>\n",
       "    </tr>\n",
       "    <tr>\n",
       "      <th>5</th>\n",
       "      <td>Jack</td>\n",
       "      <td>M</td>\n",
       "      <td>10</td>\n",
       "      <td>1</td>\n",
       "      <td>0</td>\n",
       "      <td>72013</td>\n",
       "      <td>7</td>\n",
       "      <td>2013</td>\n",
       "    </tr>\n",
       "    <tr>\n",
       "      <th>6</th>\n",
       "      <td>Hugo</td>\n",
       "      <td>M</td>\n",
       "      <td>30</td>\n",
       "      <td>1</td>\n",
       "      <td>400</td>\n",
       "      <td>52013</td>\n",
       "      <td>5</td>\n",
       "      <td>2013</td>\n",
       "    </tr>\n",
       "    <tr>\n",
       "      <th>7</th>\n",
       "      <td>Jonathan</td>\n",
       "      <td>M</td>\n",
       "      <td>14</td>\n",
       "      <td>1</td>\n",
       "      <td>0</td>\n",
       "      <td>72013</td>\n",
       "      <td>7</td>\n",
       "      <td>2013</td>\n",
       "    </tr>\n",
       "    <tr>\n",
       "      <th>8</th>\n",
       "      <td>Aaaron</td>\n",
       "      <td>M</td>\n",
       "      <td>10</td>\n",
       "      <td>1</td>\n",
       "      <td>0</td>\n",
       "      <td>12014</td>\n",
       "      <td>1</td>\n",
       "      <td>2014</td>\n",
       "    </tr>\n",
       "    <tr>\n",
       "      <th>9</th>\n",
       "      <td>Willy</td>\n",
       "      <td>M</td>\n",
       "      <td>12</td>\n",
       "      <td>0</td>\n",
       "      <td>2800</td>\n",
       "      <td>82013</td>\n",
       "      <td>8</td>\n",
       "      <td>2013</td>\n",
       "    </tr>\n",
       "    <tr>\n",
       "      <th>10</th>\n",
       "      <td>Sarah</td>\n",
       "      <td>F</td>\n",
       "      <td>10</td>\n",
       "      <td>0</td>\n",
       "      <td>4000</td>\n",
       "      <td>92013</td>\n",
       "      <td>9</td>\n",
       "      <td>2013</td>\n",
       "    </tr>\n",
       "    <tr>\n",
       "      <th>11</th>\n",
       "      <td>Zara</td>\n",
       "      <td>F</td>\n",
       "      <td>15</td>\n",
       "      <td>0</td>\n",
       "      <td>400</td>\n",
       "      <td>92013</td>\n",
       "      <td>9</td>\n",
       "      <td>2013</td>\n",
       "    </tr>\n",
       "    <tr>\n",
       "      <th>12</th>\n",
       "      <td>Stu</td>\n",
       "      <td>M</td>\n",
       "      <td>30</td>\n",
       "      <td>0</td>\n",
       "      <td>0</td>\n",
       "      <td>122013</td>\n",
       "      <td>12</td>\n",
       "      <td>2013</td>\n",
       "    </tr>\n",
       "  </tbody>\n",
       "</table>\n",
       "</div>"
      ],
      "text/plain": [
       "   Sales Person Gender  Quotes  Sales (in Volume)  Sales (in Value)  \\\n",
       "0          Cara      F      70                 10               800   \n",
       "1         Jessy      F      30                  7               400   \n",
       "2         Lewis      M      40                  5               400   \n",
       "3         Tommy      M      24                  3              1200   \n",
       "4         Annie      F      20                  2              2000   \n",
       "5          Jack      M      10                  1                 0   \n",
       "6          Hugo      M      30                  1               400   \n",
       "7      Jonathan      M      14                  1                 0   \n",
       "8        Aaaron      M      10                  1                 0   \n",
       "9         Willy      M      12                  0              2800   \n",
       "10        Sarah      F      10                  0              4000   \n",
       "11         Zara      F      15                  0               400   \n",
       "12          Stu      M      30                  0                 0   \n",
       "\n",
       "    Sold Month and Year  Month  Year  \n",
       "0                 12013      1  2013  \n",
       "1                 12013      1  2013  \n",
       "2                 32013      3  2013  \n",
       "3                 42013      4  2013  \n",
       "4                 12013      1  2013  \n",
       "5                 72013      7  2013  \n",
       "6                 52013      5  2013  \n",
       "7                 72013      7  2013  \n",
       "8                 12014      1  2014  \n",
       "9                 82013      8  2013  \n",
       "10                92013      9  2013  \n",
       "11                92013      9  2013  \n",
       "12               122013     12  2013  "
      ]
     },
     "execution_count": 14,
     "metadata": {},
     "output_type": "execute_result"
    }
   ],
   "source": [
    "df"
   ]
  },
  {
   "cell_type": "markdown",
   "id": "3b13a10d-2a42-4629-8926-173850d3ad74",
   "metadata": {},
   "source": [
    "# remove duplicates if exists"
   ]
  },
  {
   "cell_type": "code",
   "execution_count": 17,
   "id": "c8f1ddc1-e588-4cb1-9ddd-7ebc51a0db2a",
   "metadata": {},
   "outputs": [],
   "source": [
    "df = df.drop_duplicates()"
   ]
  },
  {
   "cell_type": "code",
   "execution_count": 19,
   "id": "bbd61e8b-fa46-47a2-9067-92e13d3c648b",
   "metadata": {},
   "outputs": [
    {
     "data": {
      "text/html": [
       "<div>\n",
       "<style scoped>\n",
       "    .dataframe tbody tr th:only-of-type {\n",
       "        vertical-align: middle;\n",
       "    }\n",
       "\n",
       "    .dataframe tbody tr th {\n",
       "        vertical-align: top;\n",
       "    }\n",
       "\n",
       "    .dataframe thead th {\n",
       "        text-align: right;\n",
       "    }\n",
       "</style>\n",
       "<table border=\"1\" class=\"dataframe\">\n",
       "  <thead>\n",
       "    <tr style=\"text-align: right;\">\n",
       "      <th></th>\n",
       "      <th>Sales Person</th>\n",
       "      <th>Gender</th>\n",
       "      <th>Quotes</th>\n",
       "      <th>Sales (in Volume)</th>\n",
       "      <th>Sales (in Value)</th>\n",
       "      <th>Sold Month and Year</th>\n",
       "      <th>Month</th>\n",
       "      <th>Year</th>\n",
       "    </tr>\n",
       "  </thead>\n",
       "  <tbody>\n",
       "    <tr>\n",
       "      <th>0</th>\n",
       "      <td>Cara</td>\n",
       "      <td>F</td>\n",
       "      <td>70</td>\n",
       "      <td>10</td>\n",
       "      <td>800</td>\n",
       "      <td>12013</td>\n",
       "      <td>1</td>\n",
       "      <td>2013</td>\n",
       "    </tr>\n",
       "    <tr>\n",
       "      <th>1</th>\n",
       "      <td>Jessy</td>\n",
       "      <td>F</td>\n",
       "      <td>30</td>\n",
       "      <td>7</td>\n",
       "      <td>400</td>\n",
       "      <td>12013</td>\n",
       "      <td>1</td>\n",
       "      <td>2013</td>\n",
       "    </tr>\n",
       "    <tr>\n",
       "      <th>2</th>\n",
       "      <td>Lewis</td>\n",
       "      <td>M</td>\n",
       "      <td>40</td>\n",
       "      <td>5</td>\n",
       "      <td>400</td>\n",
       "      <td>32013</td>\n",
       "      <td>3</td>\n",
       "      <td>2013</td>\n",
       "    </tr>\n",
       "    <tr>\n",
       "      <th>3</th>\n",
       "      <td>Tommy</td>\n",
       "      <td>M</td>\n",
       "      <td>24</td>\n",
       "      <td>3</td>\n",
       "      <td>1200</td>\n",
       "      <td>42013</td>\n",
       "      <td>4</td>\n",
       "      <td>2013</td>\n",
       "    </tr>\n",
       "    <tr>\n",
       "      <th>4</th>\n",
       "      <td>Annie</td>\n",
       "      <td>F</td>\n",
       "      <td>20</td>\n",
       "      <td>2</td>\n",
       "      <td>2000</td>\n",
       "      <td>12013</td>\n",
       "      <td>1</td>\n",
       "      <td>2013</td>\n",
       "    </tr>\n",
       "    <tr>\n",
       "      <th>5</th>\n",
       "      <td>Jack</td>\n",
       "      <td>M</td>\n",
       "      <td>10</td>\n",
       "      <td>1</td>\n",
       "      <td>0</td>\n",
       "      <td>72013</td>\n",
       "      <td>7</td>\n",
       "      <td>2013</td>\n",
       "    </tr>\n",
       "    <tr>\n",
       "      <th>6</th>\n",
       "      <td>Hugo</td>\n",
       "      <td>M</td>\n",
       "      <td>30</td>\n",
       "      <td>1</td>\n",
       "      <td>400</td>\n",
       "      <td>52013</td>\n",
       "      <td>5</td>\n",
       "      <td>2013</td>\n",
       "    </tr>\n",
       "    <tr>\n",
       "      <th>7</th>\n",
       "      <td>Jonathan</td>\n",
       "      <td>M</td>\n",
       "      <td>14</td>\n",
       "      <td>1</td>\n",
       "      <td>0</td>\n",
       "      <td>72013</td>\n",
       "      <td>7</td>\n",
       "      <td>2013</td>\n",
       "    </tr>\n",
       "    <tr>\n",
       "      <th>8</th>\n",
       "      <td>Aaaron</td>\n",
       "      <td>M</td>\n",
       "      <td>10</td>\n",
       "      <td>1</td>\n",
       "      <td>0</td>\n",
       "      <td>12014</td>\n",
       "      <td>1</td>\n",
       "      <td>2014</td>\n",
       "    </tr>\n",
       "    <tr>\n",
       "      <th>9</th>\n",
       "      <td>Willy</td>\n",
       "      <td>M</td>\n",
       "      <td>12</td>\n",
       "      <td>0</td>\n",
       "      <td>2800</td>\n",
       "      <td>82013</td>\n",
       "      <td>8</td>\n",
       "      <td>2013</td>\n",
       "    </tr>\n",
       "    <tr>\n",
       "      <th>10</th>\n",
       "      <td>Sarah</td>\n",
       "      <td>F</td>\n",
       "      <td>10</td>\n",
       "      <td>0</td>\n",
       "      <td>4000</td>\n",
       "      <td>92013</td>\n",
       "      <td>9</td>\n",
       "      <td>2013</td>\n",
       "    </tr>\n",
       "    <tr>\n",
       "      <th>11</th>\n",
       "      <td>Zara</td>\n",
       "      <td>F</td>\n",
       "      <td>15</td>\n",
       "      <td>0</td>\n",
       "      <td>400</td>\n",
       "      <td>92013</td>\n",
       "      <td>9</td>\n",
       "      <td>2013</td>\n",
       "    </tr>\n",
       "    <tr>\n",
       "      <th>12</th>\n",
       "      <td>Stu</td>\n",
       "      <td>M</td>\n",
       "      <td>30</td>\n",
       "      <td>0</td>\n",
       "      <td>0</td>\n",
       "      <td>122013</td>\n",
       "      <td>12</td>\n",
       "      <td>2013</td>\n",
       "    </tr>\n",
       "  </tbody>\n",
       "</table>\n",
       "</div>"
      ],
      "text/plain": [
       "   Sales Person Gender  Quotes  Sales (in Volume)  Sales (in Value)  \\\n",
       "0          Cara      F      70                 10               800   \n",
       "1         Jessy      F      30                  7               400   \n",
       "2         Lewis      M      40                  5               400   \n",
       "3         Tommy      M      24                  3              1200   \n",
       "4         Annie      F      20                  2              2000   \n",
       "5          Jack      M      10                  1                 0   \n",
       "6          Hugo      M      30                  1               400   \n",
       "7      Jonathan      M      14                  1                 0   \n",
       "8        Aaaron      M      10                  1                 0   \n",
       "9         Willy      M      12                  0              2800   \n",
       "10        Sarah      F      10                  0              4000   \n",
       "11         Zara      F      15                  0               400   \n",
       "12          Stu      M      30                  0                 0   \n",
       "\n",
       "    Sold Month and Year  Month  Year  \n",
       "0                 12013      1  2013  \n",
       "1                 12013      1  2013  \n",
       "2                 32013      3  2013  \n",
       "3                 42013      4  2013  \n",
       "4                 12013      1  2013  \n",
       "5                 72013      7  2013  \n",
       "6                 52013      5  2013  \n",
       "7                 72013      7  2013  \n",
       "8                 12014      1  2014  \n",
       "9                 82013      8  2013  \n",
       "10                92013      9  2013  \n",
       "11                92013      9  2013  \n",
       "12               122013     12  2013  "
      ]
     },
     "execution_count": 19,
     "metadata": {},
     "output_type": "execute_result"
    }
   ],
   "source": [
    "df"
   ]
  },
  {
   "cell_type": "markdown",
   "id": "d017316d-da9e-4ce1-94c6-03d165706766",
   "metadata": {},
   "source": [
    "# summary statistics"
   ]
  },
  {
   "cell_type": "code",
   "execution_count": 22,
   "id": "744737fa-2a19-49a2-8d34-e487bfbaa32b",
   "metadata": {},
   "outputs": [
    {
     "name": "stdout",
     "output_type": "stream",
     "text": [
      "          Quotes  Sales (in Volume)  Sales (in Value)  Sold Month and Year  \\\n",
      "count  13.000000          13.000000         13.000000            13.000000   \n",
      "mean   24.230769           2.384615        953.846154         54320.769231   \n",
      "std    16.853060           3.123525       1249.410117         37227.548733   \n",
      "min    10.000000           0.000000          0.000000         12013.000000   \n",
      "25%    12.000000           0.000000          0.000000         12014.000000   \n",
      "50%    20.000000           1.000000        400.000000         52013.000000   \n",
      "75%    30.000000           3.000000       1200.000000         82013.000000   \n",
      "max    70.000000          10.000000       4000.000000        122013.000000   \n",
      "\n",
      "           Month         Year  \n",
      "count  13.000000    13.000000  \n",
      "mean    5.230769  2013.076923  \n",
      "std     3.722764     0.277350  \n",
      "min     1.000000  2013.000000  \n",
      "25%     1.000000  2013.000000  \n",
      "50%     5.000000  2013.000000  \n",
      "75%     8.000000  2013.000000  \n",
      "max    12.000000  2014.000000  \n"
     ]
    }
   ],
   "source": [
    "print(df.describe())"
   ]
  },
  {
   "cell_type": "markdown",
   "id": "342adf65-7989-49b3-8d82-2f59ec1e61fb",
   "metadata": {},
   "source": [
    "# data visualisation"
   ]
  },
  {
   "cell_type": "code",
   "execution_count": 25,
   "id": "47a99d49-07f6-49e4-b480-dc19a3e52a39",
   "metadata": {},
   "outputs": [],
   "source": [
    "#histogram"
   ]
  },
  {
   "cell_type": "code",
   "execution_count": 27,
   "id": "78825edc-4d6f-4506-8d5e-91baca8bef2d",
   "metadata": {},
   "outputs": [
    {
     "data": {
      "image/png": "[encoded data removed]",
      "text/plain": [
       "<Figure size 1500x1000 with 6 Axes>"
      ]
     },
     "metadata": {},
     "output_type": "display_data"
    }
   ],
   "source": [
    "df.hist(bins=30, figsize=(15, 10))\n",
    "plt.show()"
   ]
  },
  {
   "cell_type": "markdown",
   "id": "4369bedc-22af-4ca1-9c57-3939546457b2",
   "metadata": {},
   "source": [
    "# correlation analyse"
   ]
  },
  {
   "cell_type": "code",
   "execution_count": 30,
   "id": "6ec89a2b-7403-4ee1-8b6e-a5f92858d7c8",
   "metadata": {},
   "outputs": [],
   "source": [
    "df = df.convert_dtypes()"
   ]
  },
  {
   "cell_type": "markdown",
   "id": "2928a4a0-731c-4c91-aca1-3e24ba20d697",
   "metadata": {},
   "source": [
    "# specific analyse"
   ]
  },
  {
   "cell_type": "code",
   "execution_count": 33,
   "id": "d1e20ba0-b00f-4441-b110-401d569fa59d",
   "metadata": {},
   "outputs": [
    {
     "name": "stdout",
     "output_type": "stream",
     "text": [
      "Gender\n",
      "M    8\n",
      "F    5\n",
      "Name: count, dtype: Int64\n"
     ]
    }
   ],
   "source": [
    "# question - Count of Male Sales person and Count of Female Sales Person\n",
    "gender_count = df['Gender'].value_counts()\n",
    "print(gender_count)"
   ]
  },
  {
   "cell_type": "code",
   "execution_count": 35,
   "id": "685c451d-3edc-4fe1-a1b3-e6e7bd1ab85d",
   "metadata": {},
   "outputs": [
    {
     "name": "stdout",
     "output_type": "stream",
     "text": [
      "Index(['Sales Person', 'Gender', 'Quotes', 'Sales (in Volume)',\n",
      "       'Sales (in Value)', 'Sold Month and Year', 'Month', 'Year'],\n",
      "      dtype='object')\n"
     ]
    }
   ],
   "source": [
    "print(df.columns)\n",
    "\n"
   ]
  },
  {
   "cell_type": "code",
   "execution_count": 37,
   "id": "06cdf209-2066-4bdc-a8ca-9e9eeb456d64",
   "metadata": {},
   "outputs": [
    {
     "name": "stdout",
     "output_type": "stream",
     "text": [
      "Index(['sales_person', 'gender', 'quotes', 'sales_(in_volume)',\n",
      "       'sales_(in_value)', 'sold_month_and_year', 'month', 'year'],\n",
      "      dtype='object')\n"
     ]
    }
   ],
   "source": [
    "df.columns = [col.strip().lower().replace(' ', '_') for col in df.columns]\n",
    "print(df.columns)"
   ]
  },
  {
   "cell_type": "code",
   "execution_count": 39,
   "id": "04877c14-9b90-4ee9-a467-88c566f96b5e",
   "metadata": {},
   "outputs": [
    {
     "name": "stdout",
     "output_type": "stream",
     "text": [
      "400.0\n"
     ]
    }
   ],
   "source": [
    "# question - Overall Sales made in May 2013\n",
    "price_per_policy = df['sales_(in_value)'].sum() / df['sales_(in_volume)'].sum()\n",
    "print(price_per_policy)"
   ]
  },
  {
   "cell_type": "code",
   "execution_count": 41,
   "id": "323f4af9-d46b-4bab-a70d-0eaa0617939a",
   "metadata": {},
   "outputs": [
    {
     "name": "stdout",
     "output_type": "stream",
     "text": [
      "3200\n"
     ]
    }
   ],
   "source": [
    "# question - Overall Sales made in January 2013\n",
    "jan_2013_sales = df[(df['month'] == 1) & (df['year'] == 2013)]['sales_(in_value)'].sum()\n",
    "print(jan_2013_sales)\n"
   ]
  },
  {
   "cell_type": "code",
   "execution_count": 43,
   "id": "7398cdd9-ba64-4139-a6b5-60f9bbb7e1f0",
   "metadata": {},
   "outputs": [
    {
     "name": "stdout",
     "output_type": "stream",
     "text": [
      "400\n"
     ]
    }
   ],
   "source": [
    "# question - Overall Sales made in May 2013\n",
    "may_2013_sales = df[(df['month'] == 5) & (df['year'] == 2013)]['sales_(in_value)'].sum()\n",
    "print(may_2013_sales)"
   ]
  },
  {
   "cell_type": "code",
   "execution_count": 45,
   "id": "b169b0f4-3b75-42c2-9df6-3701fc93f5ef",
   "metadata": {},
   "outputs": [
    {
     "name": "stdout",
     "output_type": "stream",
     "text": [
      "4400\n"
     ]
    }
   ],
   "source": [
    "# question - Maximum sales made in September 2013\n",
    "max_sept_2013_sales = df[(df['month'] == 9) & (df['year'] == 2013)]['sales_(in_value)'].sum()\n",
    "print(max_sept_2013_sales)"
   ]
  },
  {
   "cell_type": "code",
   "execution_count": 47,
   "id": "1bc68bac-643d-42bf-a244-e4fd0fcb90a4",
   "metadata": {},
   "outputs": [
    {
     "name": "stdout",
     "output_type": "stream",
     "text": [
      "<StringArray>\n",
      "['Willy']\n",
      "Length: 1, dtype: string\n"
     ]
    }
   ],
   "source": [
    "# question -  Name of the Sales person who made sales of 2800\n",
    "sales_2800_person = df[df['sales_(in_value)'] == 2800]['sales_person'].values\n",
    "print(sales_2800_person)"
   ]
  },
  {
   "cell_type": "code",
   "execution_count": 49,
   "id": "8cd88e4e-57d5-4d6c-8a74-642a3b6286df",
   "metadata": {},
   "outputs": [
    {
     "name": "stdout",
     "output_type": "stream",
     "text": [
      "0\n"
     ]
    }
   ],
   "source": [
    "# question -  Overall sales made by Sales persons' names starting with \"J\"\n",
    "sales_j_persons = df[df['sales_person'].str.startswith('j')]['sales_(in_value)'].sum()\n",
    "print(sales_j_persons)"
   ]
  },
  {
   "cell_type": "code",
   "execution_count": 51,
   "id": "50be186f-195d-4870-bb45-d67d87f19ca9",
   "metadata": {},
   "outputs": [
    {
     "name": "stdout",
     "output_type": "stream",
     "text": [
      "0\n"
     ]
    }
   ],
   "source": [
    "# question - Number of Sales made by Sales Person Stu in December 2013\n",
    "stu_dec_2013_sales = df[(df['sales_person'] == 'Stu') & (df['month'] == 12) & (df['year'] == 2013)]['sales_(in_volume)'].sum()\n",
    "print(stu_dec_2013_sales)"
   ]
  },
  {
   "cell_type": "code",
   "execution_count": 53,
   "id": "a5d78722-a827-4c33-9459-523f7e536cda",
   "metadata": {},
   "outputs": [
    {
     "name": "stdout",
     "output_type": "stream",
     "text": [
      "Lewis\n"
     ]
    }
   ],
   "source": [
    "# question -  Rank the third highest sales person based on Policies sold\n",
    "df_sorted = df.sort_values(by='sales_(in_volume)', ascending=False)\n",
    "third_highest_sales_person = df_sorted.iloc[2]['sales_person']\n",
    "print(third_highest_sales_person)\n",
    "\n"
   ]
  },
  {
   "cell_type": "code",
   "execution_count": 57,
   "id": "1698b23e-2a14-4fa0-b333-5d8bc278e95d",
   "metadata": {},
   "outputs": [
    {
     "name": "stdout",
     "output_type": "stream",
     "text": [
      "4 - Willy, Sarah, Zara, Stu\n"
     ]
    }
   ],
   "source": [
    "# question -  Number and Name of Sales Persons with \"0\" Policy sales in the year 2013\n",
    "zero_policy_sales_2013 = df[(df['sales_(in_volume)'] == 0) & (df['year'] == 2013)]\n",
    "zero_policy_sales_persons = zero_policy_sales_2013['sales_person'].values\n",
    "print(len(zero_policy_sales_persons), '-', ', '.join(zero_policy_sales_persons))\n"
   ]
  },
  {
   "cell_type": "code",
   "execution_count": 61,
   "id": "d513eb53-2ee0-44c0-8f2b-8219b12142f5",
   "metadata": {},
   "outputs": [
    {
     "name": "stdout",
     "output_type": "stream",
     "text": [
      "<StringArray>\n",
      "['Sarah', 'Willy', 'Annie', 'Tommy', 'Cara']\n",
      "Length: 5, dtype: string\n"
     ]
    }
   ],
   "source": [
    "# question - top 5 sales person in year 2013\n",
    "top_5_sales_2013 = df[df['year'] == 2013].sort_values(by='sales_(in_value)' , ascending=False).head(5)\n",
    "print(top_5_sales_2013['sales_person'].values)\n"
   ]
  },
  {
   "cell_type": "code",
   "execution_count": 65,
   "id": "e4e07c72-01b0-4a97-a889-1677fb18a972",
   "metadata": {},
   "outputs": [
    {
     "name": "stdout",
     "output_type": "stream",
     "text": [
      "<StringArray>\n",
      "['Sarah', 'Annie']\n",
      "Length: 2, dtype: string\n"
     ]
    }
   ],
   "source": [
    "# question - Top 2 Female Sales Persons based on Sales made in 2013\n",
    "top_2_female_sales_2013 = df[(df['year'] == 2013) & (df['gender'] == 'F')].sort_values(by='sales_(in_value)', ascending=False).head(2)\n",
    "print(top_2_female_sales_2013['sales_person'].values)"
   ]
  },
  {
   "cell_type": "code",
   "execution_count": 69,
   "id": "ba0a5d75-fff1-4976-aab4-5d1559217d25",
   "metadata": {},
   "outputs": [
    {
     "name": "stdout",
     "output_type": "stream",
     "text": [
      "Top Overall sales made in 2013 by 12 sales persons, out of which 5 are female and 7 are male.\n"
     ]
    }
   ],
   "source": [
    "# Derive the sentence along with the values\n",
    "total_sales_persons = df[df['year'] == 2013]['sales_person'].nunique()\n",
    "female_sales_persons = df[(df['year'] == 2013) & (df['gender'] == 'F')]['sales_person'].nunique()\n",
    "male_sales_persons = total_sales_persons - female_sales_persons\n",
    "sentence = f\"Top Overall sales made in 2013 by {total_sales_persons} sales persons, out of which {female_sales_persons} are female and {male_sales_persons} are male.\"\n",
    "print(sentence)"
   ]
  },
  {
   "cell_type": "code",
   "execution_count": 104,
   "id": "7c1eca74-b43b-4456-9f0a-674e569f9e56",
   "metadata": {},
   "outputs": [],
   "source": [
    "from datetime import datetime"
   ]
  },
  {
   "cell_type": "code",
   "execution_count": 106,
   "id": "0bd700ed-b13f-4004-8483-648eba0f2d31",
   "metadata": {},
   "outputs": [
    {
     "name": "stdout",
     "output_type": "stream",
     "text": [
      "276\n"
     ]
    }
   ],
   "source": [
    "#  additional question - Number of days between 31st March 2013 and 1st Jan 2014\n",
    "days_between = (datetime(2014, 1, 1) - datetime(2013, 3, 31)).days\n",
    "print(days_between)\n"
   ]
  },
  {
   "cell_type": "code",
   "execution_count": 108,
   "id": "b14ed9fa-c09b-46d5-bd48-f255f183e8b5",
   "metadata": {},
   "outputs": [
    {
     "name": "stdout",
     "output_type": "stream",
     "text": [
      "77\n"
     ]
    }
   ],
   "source": [
    "# additional question -  Number of years between 15th August 1947 to till date\n",
    "years_between = datetime.now().year - 1947\n",
    "print(years_between)"
   ]
  },
  {
   "cell_type": "code",
   "execution_count": 112,
   "id": "0b67eb5d-48e4-4336-9ee5-97320b1f9f6c",
   "metadata": {},
   "outputs": [
    {
     "name": "stdout",
     "output_type": "stream",
     "text": [
      "159\n"
     ]
    }
   ],
   "source": [
    "# additional - Number of months between 14th April 2011 to till date\n",
    "months_between = (datetime.now().year - 2011) * 12 + (datetime.now().month - 4)\n",
    "print(months_between)"
   ]
  },
  {
   "cell_type": "code",
   "execution_count": null,
   "id": "250fd4d4-f885-449b-b27c-3a6cedab7be6",
   "metadata": {},
   "outputs": [],
   "source": [
    "# a) The number of cells in a range that are non-empty."
   ]
  }
 ],
 "metadata": {
  "kernelspec": {
   "display_name": "Python 3 (ipykernel)",
   "language": "python",
   "name": "python3"
  },
  "language_info": {
   "codemirror_mode": {
    "name": "ipython",
    "version": 3
   },
   "file_extension": ".py",
   "mimetype": "text/x-python",
   "name": "python",
   "nbconvert_exporter": "python",
   "pygments_lexer": "ipython3",
   "version": "3.12.4"
  }
 },
 "nbformat": 4,
 "nbformat_minor": 5
}
